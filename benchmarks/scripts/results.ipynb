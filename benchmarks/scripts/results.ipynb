{
 "cells": [
  {
   "cell_type": "code",
   "execution_count": null,
   "metadata": {},
   "outputs": [],
   "source": [
    "import IPython\n",
    "import os\n",
    "import sys\n",
    "notebook_path = \"/\".join(\n",
    "        IPython.extract_module_locals()[1][\"__vsc_ipynb_file__\"].split(\"/\")[-3:]\n",
    "    )\n",
    "notebook_dir = os.path.dirname(notebook_path)\n",
    "if notebook_dir not in sys.path:\n",
    "    sys.path.append(notebook_dir)\n",
    "from analysis import *"
   ]
  },
  {
   "cell_type": "code",
   "execution_count": null,
   "metadata": {},
   "outputs": [],
   "source": [
    "tinyopt = parse_catch2_xml('benchmarks/scripts/tinyopt.xml')\n",
    "ceres = parse_catch2_xml('benchmarks/scripts/ceres.xml')\n",
    "\n",
    "df = create_dataframe(tinyopt, ceres)"
   ]
  },
  {
   "cell_type": "code",
   "execution_count": null,
   "metadata": {},
   "outputs": [],
   "source": [
    "styled_df = style_dataframe(df)\n",
    "styled_df\n",
    "\n",
    "#import imgkit\n",
    "#html = styled_df.to_html()\n",
    "#imgkit.from_string(html, 'docs/benchmark-ceres-table.png')"
   ]
  },
  {
   "cell_type": "code",
   "execution_count": null,
   "metadata": {},
   "outputs": [],
   "source": [
    "fig = plot_all_benchmarks(df)\n",
    "fig.savefig('docs/benchmark-ceres-plot.png')"
   ]
  }
 ],
 "metadata": {
  "kernelspec": {
   "display_name": "lerobot",
   "language": "python",
   "name": "python3"
  },
  "language_info": {
   "codemirror_mode": {
    "name": "ipython",
    "version": 3
   },
   "file_extension": ".py",
   "mimetype": "text/x-python",
   "name": "python",
   "nbconvert_exporter": "python",
   "pygments_lexer": "ipython3",
   "version": "3.10.16"
  }
 },
 "nbformat": 4,
 "nbformat_minor": 2
}
